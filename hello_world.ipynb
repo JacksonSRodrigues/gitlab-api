{
  "nbformat": 4,
  "nbformat_minor": 0,
  "metadata": {
    "colab": {
      "name": "Untitled1.ipynb",
      "version": "0.3.2",
      "provenance": [],
      "collapsed_sections": [],
      "include_colab_link": true
    },
    "kernelspec": {
      "name": "python3",
      "display_name": "Python 3"
    }
  },
  "cells": [
    {
      "cell_type": "markdown",
      "metadata": {
        "id": "view-in-github",
        "colab_type": "text"
      },
      "source": [
        "<a href=\"https://colab.research.google.com/github/JacksonSRodrigues/gitlab-api/blob/master/hello_world.ipynb\" target=\"_parent\"><img src=\"https://colab.research.google.com/assets/colab-badge.svg\" alt=\"Open In Colab\"/></a>"
      ]
    },
    {
      "metadata": {
        "id": "wW6T7quE5PS4",
        "colab_type": "text"
      },
      "cell_type": "markdown",
      "source": [
        "# Quick Start\n",
        "\n",
        "## Text Blocks \n",
        "To create a text block click the button **+ CODE** at the top menu bar. Text Blocks are capable of rendering Markdown like content, which could be used as description of the code blocks"
      ]
    },
    {
      "metadata": {
        "id": "FTDh9sfw5nt3",
        "colab_type": "code",
        "colab": {}
      },
      "cell_type": "code",
      "source": [
        ""
      ],
      "execution_count": 0,
      "outputs": []
    }
  ]
}